{
 "cells": [
  {
   "cell_type": "code",
   "execution_count": 1,
   "metadata": {
    "collapsed": true
   },
   "outputs": [],
   "source": [
    "%matplotlib inline\n",
    "import numpy as np\n",
    "import matplotlib.pyplot as plt"
   ]
  },
  {
   "cell_type": "markdown",
   "metadata": {},
   "source": [
    "### Logistic Regression\n",
    "\n",
    "Suppose that you are the administrator of a university department and you want to determine each applicant’s chance of admission based on their results on two exams. You have historical data from previous applicants that you can use as a training set for logistic regression. For each training example, you have the applicant’s scores on two exams and the admissions decision.\n",
    "Your task is to build a classification model that estimates an applicant’s probability of admission based the scores from those two exams"
   ]
  },
  {
   "cell_type": "code",
   "execution_count": 2,
   "metadata": {
    "collapsed": false
   },
   "outputs": [
    {
     "data": {
      "image/png": "[encoded data removed]",
      "text/plain": [
       "<matplotlib.figure.Figure at 0x10fd5d610>"
      ]
     },
     "metadata": {},
     "output_type": "display_data"
    }
   ],
   "source": [
    "# Load initial data\n",
    "datafile = 'ex2/ex2data1.txt'\n",
    "data = np.loadtxt(datafile, delimiter=',', unpack=True)\n",
    "\n",
    "# Fit data into features and results\n",
    "X = np.transpose(np.array(data[:-1]))\n",
    "Y = np.transpose(np.array(data[-1:]))\n",
    "\n",
    "m = len(Y)\n",
    "# Add column of 1s.\n",
    "X = np.insert(X,0,1,axis=1)\n",
    "\n",
    "#Plot initial data\n",
    "admitted = np.array([X[i] for i in range(len(Y)) if Y[i] == 1])\n",
    "rejected = np.array([X[i] for i in range(len(Y)) if Y[i] == 0])\n",
    "\n",
    "def plot():\n",
    "    plt.figure(figsize=(10,6))\n",
    "    plt.plot(admitted[:,1],admitted[:,2],'go',markersize=7, label=\"Admitted\")\n",
    "    plt.plot(rejected[:,1],rejected[:,2],'ro', markersize=7, label=\"Rejected\")\n",
    "    plt.ylabel('First exam results')\n",
    "    plt.xlabel('Second exam results')\n",
    "    plt.legend(loc='upper right')\n",
    "    plt.legend()\n",
    "    plt.grid(True)\n",
    "    \n",
    "plot()"
   ]
  },
  {
   "cell_type": "markdown",
   "metadata": {
    "collapsed": true
   },
   "source": [
    "### Implementation\n",
    "\n",
    "##### Sigmoid function"
   ]
  },
  {
   "cell_type": "code",
   "execution_count": 3,
   "metadata": {
    "collapsed": false
   },
   "outputs": [
    {
     "name": "stdout",
     "output_type": "stream",
     "text": [
      "0.5\n"
     ]
    }
   ],
   "source": [
    "from scipy.special import expit\n",
    "# sigmoid function is imported from scipy\n",
    "# sigmoid(0) should be exactly 0.5\n",
    "print expit(0)"
   ]
  },
  {
   "cell_type": "code",
   "execution_count": 4,
   "metadata": {
    "collapsed": true
   },
   "outputs": [],
   "source": [
    "# hypothesis function for logistic regression\n",
    "def hypothesis(X, weights):\n",
    "    return expit(np.dot(X, weights))"
   ]
  },
  {
   "cell_type": "markdown",
   "metadata": {},
   "source": [
    "##### Cost function and gradient"
   ]
  },
  {
   "cell_type": "code",
   "execution_count": 20,
   "metadata": {
    "collapsed": false
   },
   "outputs": [
    {
     "data": {
      "text/plain": [
       "0.69314718055994529"
      ]
     },
     "execution_count": 20,
     "metadata": {},
     "output_type": "execute_result"
    }
   ],
   "source": [
    "def compute_cost(weights, X, Y):\n",
    "    h = hypothesis(X, weights)\n",
    "    cost = -(1./m) * (np.dot(Y.T,np.log(h)) + np.dot((1-Y).T,np.log(1-h)))\n",
    "    return np.sum(cost)\n",
    "\n",
    "initial_weights = np.zeros((X.shape[1],1))\n",
    "compute_cost( initial_weights, X, Y)"
   ]
  },
  {
   "cell_type": "markdown",
   "metadata": {
    "collapsed": true
   },
   "source": [
    "#### Finding optimal theta parameters\n",
    "\"You wrote a cost function and calculated its gradient, then took a gradient descent step accordingly. This time, instead of taking gradient descent steps, you will use an Octave/- MATLAB built-in function called fminunc\"\n",
    "\n",
    "Scipy has several alternatives that can find optimum weights and are similar to Octave's fminunc. They are listed here: http://docs.scipy.org/doc/scipy-0.10.0/reference/tutorial/optimize.html\n",
    "\n",
    "We could use either `fmin` or `fmin_bfgs` (the internet says octave's fminunc is implemented using bfgs)."
   ]
  },
  {
   "cell_type": "code",
   "execution_count": 7,
   "metadata": {
    "collapsed": true
   },
   "outputs": [],
   "source": [
    "from scipy.optimize import fmin\n",
    "\n",
    "def optimize_weights(weights, X, Y):\n",
    "    result = fmin(compute_cost,x0=weights,args=(X,Y),maxiter=400,full_output=True)\n",
    "    return result[0],result[1]"
   ]
  },
  {
   "cell_type": "code",
   "execution_count": 8,
   "metadata": {
    "collapsed": false
   },
   "outputs": [
    {
     "name": "stdout",
     "output_type": "stream",
     "text": [
      "Optimization terminated successfully.\n",
      "         Current function value: 0.203498\n",
      "         Iterations: 157\n",
      "         Function evaluations: 287\n"
     ]
    }
   ],
   "source": [
    "optimum_weights, minimum_cost = optimize_weights(initial_weights, X, Y)"
   ]
  },
  {
   "cell_type": "code",
   "execution_count": 9,
   "metadata": {
    "collapsed": false
   },
   "outputs": [
    {
     "name": "stdout",
     "output_type": "stream",
     "text": [
      "0.20349770159\n"
     ]
    }
   ],
   "source": [
    "\"\"\"\n",
    "Call your costFunction function using the optimal parameters of θ. \n",
    "You should see that the cost is about 0.203.\n",
    "\"\"\"\n",
    "print compute_cost(optimum_weights, X, Y)"
   ]
  },
  {
   "cell_type": "markdown",
   "metadata": {},
   "source": [
    "#### Evaluating logistic regression"
   ]
  },
  {
   "cell_type": "code",
   "execution_count": 10,
   "metadata": {
    "collapsed": false
   },
   "outputs": [],
   "source": [
    "# Initially plot decision boundry\n",
    "def plot():\n",
    "    plot_x = np.array([np.min(X[:,1]), np.max(X[:,1])])\n",
    "    plot_y = (-1./optimum_weights[2])*(optimum_weights[0] + optimum_weights[1]*plot_x)\n",
    "    plot()\n",
    "    plt.plot(plot_x,plot_y,'b-',label='Decision Boundary')\n",
    "    plt.legend()"
   ]
  },
  {
   "cell_type": "code",
   "execution_count": 11,
   "metadata": {
    "collapsed": false
   },
   "outputs": [
    {
     "data": {
      "text/plain": [
       "0.77629159041124107"
      ]
     },
     "execution_count": 11,
     "metadata": {},
     "output_type": "execute_result"
    }
   ],
   "source": [
    "\"\"\"\n",
    "After learning the parameters, you can use the model to predict \n",
    "whether a particular student will be admitted. For a student \n",
    "with an Exam 1 score of 45 and an Exam 2 score of 85, \n",
    "you should expect to see an admission probability of 0.776.\n",
    "\"\"\"\n",
    "hypothesis([1.,45.,85.],optimum_weights)"
   ]
  },
  {
   "cell_type": "code",
   "execution_count": 12,
   "metadata": {
    "collapsed": false
   },
   "outputs": [
    {
     "name": "stdout",
     "output_type": "stream",
     "text": [
      "89.0% accuracy.\n"
     ]
    }
   ],
   "source": [
    "def classify_positive(features, weights):\n",
    "    return hypothesis(features, weights) >= 0.5\n",
    "\n",
    "def classify_negative(features, weights):\n",
    "    return hypothesis(features, weights) < 0.5\n",
    "\n",
    "# How many of the students we know are admitted are classified as positive\n",
    "correct_positives = np.sum(classify_positive(admitted, optimum_weights))\n",
    "\n",
    "# How many of the students we know are rejected are classified as negative\n",
    "correct_negatives = np.sum(classify_negative(rejected, optimum_weights))\n",
    "\n",
    "total_correct = correct_positives + correct_negatives\n",
    "total_results = len(admitted) + len(rejected)\n",
    "correct = float(total_correct) / total_results\n",
    "\n",
    "print str(correct * 100) + \"% accuracy.\""
   ]
  },
  {
   "cell_type": "markdown",
   "metadata": {},
   "source": [
    "### Regularized Logistic Regression"
   ]
  },
  {
   "cell_type": "code",
   "execution_count": 13,
   "metadata": {
    "collapsed": false
   },
   "outputs": [],
   "source": [
    "# Load and plot data\n",
    "data = 'ex2/ex2data2.txt'\n",
    "reglogdata = np.loadtxt(data, delimiter=',',unpack=True,usecols=(0,1,2))\n",
    "\n",
    "X = np.transpose(np.array(reglogdata[:-1]))\n",
    "Y = np.transpose(np.array(reglogdata[-1:]))\n",
    "\n",
    "m = len(Y)\n",
    "\n",
    "# Insert column of 1s\n",
    "X = np.insert(X,0,1,axis=1)"
   ]
  },
  {
   "cell_type": "code",
   "execution_count": 151,
   "metadata": {
    "collapsed": false
   },
   "outputs": [
    {
     "data": {
      "image/png": "[encoded data removed]",
      "text/plain": [
       "<matplotlib.figure.Figure at 0x10cb2c9d0>"
      ]
     },
     "metadata": {},
     "output_type": "display_data"
    }
   ],
   "source": [
    "accepted = np.array([X[i] for i in range(len(X)) if Y[i] == 1])\n",
    "rejected = np.array([X[i] for i in range(len(X)) if Y[i] == 0])\n",
    "\n",
    "plt.figure(figsize=(8,8))\n",
    "plt.plot(accepted[:,1],accepted[:,2],'go',markersize=7, label=\"y = 1\")\n",
    "plt.plot(rejected[:,1],rejected[:,2],'ro', markersize=7, label=\"y = 0\")\n",
    "plt.ylabel('QA Test 1')\n",
    "plt.xlabel('QA Test 2')\n",
    "plt.legend(loc='upper right')\n",
    "plt.legend()\n",
    "plt.grid(True)"
   ]
  },
  {
   "cell_type": "markdown",
   "metadata": {},
   "source": [
    "Our data is not linearly separable. A straight line cannot separate positive from negative results."
   ]
  },
  {
   "cell_type": "markdown",
   "metadata": {},
   "source": [
    "#### Feature mapping\n",
    "One way to fit the data better is to create more features from each data point.\n",
    "We will map the features into all polynomial terms of x1 and x2 up to the sixth power. As a result of this mapping, our vector of two features (the scores on two QA tests) has been transformed into a 28-dimensional vector. A logistic regression classifier trained on this higher-dimension feature vector will have a more complex decision boundary and will appear nonlinear when drawn in our 2-dimensional plot.\n",
    "While the feature mapping allows us to build a more expressive classifier, it also more susceptible to overfitting."
   ]
  },
  {
   "cell_type": "code",
   "execution_count": 14,
   "metadata": {
    "collapsed": false
   },
   "outputs": [],
   "source": [
    "def map_feature(x1, x2):\n",
    "    \"\"\" \n",
    "    Function that takes in a column of n- x1's, a column of n- x2s, and builds\n",
    "    a n- x 28-dim matrix of featuers as described in the homework assignment\n",
    "    \"\"\"\n",
    "    degrees = 6\n",
    "    out = np.ones((x1.shape[0], 1))\n",
    "\n",
    "    for i in range(1, degrees+1):\n",
    "        for j in range(0, i+1):\n",
    "            term1 = x1 ** (i-j)\n",
    "            term2 = x2 ** (j)\n",
    "            term  = (term1 * term2).reshape( term1.shape[0], 1 ) \n",
    "            out   = np.hstack(( out, term ))\n",
    "    return out"
   ]
  },
  {
   "cell_type": "code",
   "execution_count": 15,
   "metadata": {
    "collapsed": false
   },
   "outputs": [],
   "source": [
    "X_mapped = map_feature(X[:,1],X[:,2])"
   ]
  },
  {
   "cell_type": "markdown",
   "metadata": {},
   "source": [
    "#### Cost function and gradient"
   ]
  },
  {
   "cell_type": "code",
   "execution_count": 16,
   "metadata": {
    "collapsed": true
   },
   "outputs": [],
   "source": [
    "def compute_regularized_cost(weights, X, Y, lmbda=0.):\n",
    "    first = np.dot(Y.T, np.log(hypothesis(X, weights)))\n",
    "    second = np.dot((1-Y).T,np.log(1-hypothesis(X,weights)))\n",
    "    cost = -(1./m) * (first + second) + (lmbda/2 * np.sum(np.dot(weights[1:].T,weights[1:])))\n",
    "    return np.sum(cost)"
   ]
  },
  {
   "cell_type": "code",
   "execution_count": 19,
   "metadata": {
    "collapsed": false
   },
   "outputs": [
    {
     "name": "stdout",
     "output_type": "stream",
     "text": [
      "[[   19.47096544    31.83733031    15.84916245  -190.1883393    -83.66549748\n",
      "    -98.53821178  -234.03191615  -193.17582887  -126.72617071\n",
      "    -39.46003923   654.08186604   498.71113278   808.07425089   333.640422\n",
      "    178.76305192   399.12087532   516.90723192   615.15307244\n",
      "    356.00560688   129.23617695    34.72997354  -766.6799324   -893.2261022\n",
      "  -1496.71081886 -1032.60216281 -1009.09641584  -378.69078062\n",
      "   -121.56777742]]\n",
      "0.248645045331\n"
     ]
    }
   ],
   "source": [
    "initial_weights = np.zeros((X_mapped.shape[1],1))\n",
    "\n",
    "from scipy.optimize import minimize\n",
    "\n",
    "def optimize_regularized_weights(weights, X, Y, lmbda=0.):\n",
    "    result = minimize(compute_regularized_cost, initial_weights, args=(X, Y, lmbda),  method='BFGS', \n",
    "                      options={\"maxiter\":500, \"disp\":False} )\n",
    "    return np.array([result.x]), result.fun\n",
    "\n",
    "optimum_weights, minimum_cost = optimize_regularized_weights(initial_weights, X_mapped, Y)\n",
    "\n",
    "print optimum_weights\n",
    "print minimum_cost"
   ]
  },
  {
   "cell_type": "code",
   "execution_count": 20,
   "metadata": {
    "collapsed": true
   },
   "outputs": [],
   "source": [
    "# TO-DO plot for various values of lambda"
   ]
  },
  {
   "cell_type": "code",
   "execution_count": null,
   "metadata": {
    "collapsed": true
   },
   "outputs": [],
   "source": []
  }
 ],
 "metadata": {
  "kernelspec": {
   "display_name": "Python 2",
   "language": "python",
   "name": "python2"
  },
  "language_info": {
   "codemirror_mode": {
    "name": "ipython",
    "version": 2
   },
   "file_extension": ".py",
   "mimetype": "text/x-python",
   "name": "python",
   "nbconvert_exporter": "python",
   "pygments_lexer": "ipython2",
   "version": "2.7.11"
  }
 },
 "nbformat": 4,
 "nbformat_minor": 0
}

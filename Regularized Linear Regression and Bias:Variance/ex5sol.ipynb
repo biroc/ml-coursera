{
 "cells": [
  {
   "cell_type": "code",
   "execution_count": 3,
   "metadata": {
    "collapsed": false
   },
   "outputs": [],
   "source": [
    "%matplotlib inline\n",
    "import numpy as np\n",
    "import matplotlib.pyplot as plt\n",
    "import scipy.io as sio"
   ]
  },
  {
   "cell_type": "markdown",
   "metadata": {},
   "source": [
    "#### Regu;arized liear regressopn"
   ]
  },
  {
   "cell_type": "code",
   "execution_count": 58,
   "metadata": {
    "collapsed": false
   },
   "outputs": [],
   "source": [
    "datafile = 'ex5/ex5data1.mat'\n",
    "data = sio.loadmat(datafile)\n",
    "\n",
    "Xval, Yval = data['Xval'], data['yval']\n",
    "Xtrain, Ytrain = data['X'], data['y']\n",
    "Xtest, Ytest = data['Xtest'], data['ytest']\n",
    "\n",
    "# Add bias unit\n",
    "Xtrain = np.insert(Xtrain,0,1,axis=1)\n",
    "Xval = np.insert(Xval,0,1,axis=1)\n",
    "Xtest = np.insert(Xtest,0,1,axis=1)\n",
    "m = len(Ytrain)"
   ]
  },
  {
   "cell_type": "code",
   "execution_count": 68,
   "metadata": {
    "collapsed": false
   },
   "outputs": [
    {
     "data": {
      "image/png": "[encoded data removed]",
      "text/plain": [
       "<matplotlib.figure.Figure at 0x114044250>"
      ]
     },
     "metadata": {},
     "output_type": "display_data"
    }
   ],
   "source": [
    "# Plot data\n",
    "plt.figure(figsize=(10,6))\n",
    "plt.plot(Xtrain[:,1],Ytrain[:,0],'rx',markersize=10)\n",
    "plt.ylabel(\"Change in water level (X)\")\n",
    "plt.xlabel(\"Water flowing out of the dam (y)\")\n",
    "plt.grid(True)"
   ]
  },
  {
   "cell_type": "markdown",
   "metadata": {},
   "source": [
    "### 1.2 Regularized linear regression cost function"
   ]
  },
  {
   "cell_type": "code",
   "execution_count": 66,
   "metadata": {
    "collapsed": false
   },
   "outputs": [
    {
     "data": {
      "text/plain": [
       "303.99319222026429"
      ]
     },
     "execution_count": 66,
     "metadata": {},
     "output_type": "execute_result"
    }
   ],
   "source": [
    "\"\"\"\n",
    "You should expect to see an output of 303.993.\n",
    "\"\"\"\n",
    "\n",
    "def hypo(X, weights):\n",
    "    return np.dot(X, weights)\n",
    "\n",
    "def cost_function(X, Y, weights, lmbda=0.):  \n",
    "    cost = float(1./(2. * m)) * np.dot((hypo(X, weights) - Y).T, hypo(X, weights) - Y)\n",
    "    regularization = float(lmbda/(2. * m) * np.dot(weights[1:], weights[1:].T))\n",
    "    return np.sum(cost + regularization)\n",
    "\n",
    "initial_weights = np.ones((2,1))\n",
    "cost_function(Xtrain, Ytrain, initial_weights, 1.)"
   ]
  },
  {
   "cell_type": "code",
   "execution_count": null,
   "metadata": {
    "collapsed": true
   },
   "outputs": [],
   "source": []
  }
 ],
 "metadata": {
  "kernelspec": {
   "display_name": "Python 2",
   "language": "python",
   "name": "python2"
  },
  "language_info": {
   "codemirror_mode": {
    "name": "ipython",
    "version": 2
   },
   "file_extension": ".py",
   "mimetype": "text/x-python",
   "name": "python",
   "nbconvert_exporter": "python",
   "pygments_lexer": "ipython2",
   "version": "2.7.11"
  }
 },
 "nbformat": 4,
 "nbformat_minor": 0
}

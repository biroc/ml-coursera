{
 "cells": [
  {
   "cell_type": "code",
   "execution_count": 11,
   "metadata": {
    "collapsed": true
   },
   "outputs": [],
   "source": [
    "%matplotlib inline\n",
    "import numpy as np\n",
    "import matplotlib.pyplot as plt\n",
    "import scipy.io as sio\n",
    "import re\n",
    "from bs4 import BeautifulSoup"
   ]
  },
  {
   "cell_type": "code",
   "execution_count": 9,
   "metadata": {
    "collapsed": false
   },
   "outputs": [
    {
     "name": "stdout",
     "output_type": "stream",
     "text": [
      "> Anyone knows how much it costs to host a web portal ?\r\n",
      ">\r\n",
      "Well, it depends on how many visitors you're expecting.\r\n",
      "This can be anywhere from less than 10 bucks a month to a couple of $100. \r\n",
      "You should checkout http://www.rackspace.com/ or perhaps Amazon EC2 \r\n",
      "if youre running something big..\r\n",
      "\r\n",
      "To unsubscribe yourself from this mailing list, send an email to:\r\n",
      "groupname-unsubscribe@egroups.com\r\n",
      "\r\n"
     ]
    }
   ],
   "source": [
    "# Examples from the dataset\n",
    "!cat ex6/emailSample1.txt"
   ]
  },
  {
   "cell_type": "code",
   "execution_count": 10,
   "metadata": {
    "collapsed": false
   },
   "outputs": [
    {
     "name": "stdout",
     "output_type": "stream",
     "text": [
      "Folks,\r\n",
      " \r\n",
      "my first time posting - have a bit of Unix experience, but am new to Linux.\r\n",
      "\r\n",
      " \r\n",
      "Just got a new PC at home - Dell box with Windows XP. Added a second hard disk\r\n",
      "for Linux. Partitioned the disk and have installed Suse 7.2 from CD, which went\r\n",
      "fine except it didn't pick up my monitor.\r\n",
      " \r\n",
      "I have a Dell branded E151FPp 15\" LCD flat panel monitor and a nVidia GeForce4\r\n",
      "Ti4200 video card, both of which are probably too new to feature in Suse's default\r\n",
      "set. I downloaded a driver from the nVidia website and installed it using RPM.\r\n",
      "Then I ran Sax2 (as was recommended in some postings I found on the net), but\r\n",
      "it still doesn't feature my video card in the available list. What next?\r\n",
      " \r\n",
      "Another problem. I have a Dell branded keyboard and if I hit Caps-Lock twice,\r\n",
      "the whole machine crashes (in Linux, not Windows) - even the on/off switch is\r\n",
      "inactive, leaving me to reach for the power cable instead.\r\n",
      " \r\n",
      "If anyone can help me in any way with these probs., I'd be really grateful -\r\n",
      "I've searched the 'net but have run out of ideas.\r\n",
      " \r\n",
      "Or should I be going for a different version of Linux such as RedHat? Opinions\r\n",
      "welcome.\r\n",
      " \r\n",
      "Thanks a lot,\r\n",
      "Peter\r\n",
      "\r\n",
      "-- \r\n",
      "Irish Linux Users' Group: ilug@linux.ie\r\n",
      "http://www.linux.ie/mailman/listinfo/ilug for (un)subscription information.\r\n",
      "List maintainer: listmaster@linux.ie\r\n",
      "\r\n",
      "\r\n"
     ]
    }
   ],
   "source": [
    "!cat ex6/emailSample2.txt"
   ]
  },
  {
   "cell_type": "code",
   "execution_count": 13,
   "metadata": {
    "collapsed": false
   },
   "outputs": [],
   "source": [
    "import nltk, nltk.stem.porter\n",
    "def processEmail(email):\n",
    "    \"\"\"Email preprocessing and normalization\"\"\"\n",
    "    \n",
    "    # Convert to lower-case\n",
    "    email = email.lower()\n",
    "    \n",
    "    # Strip HTML\n",
    "    email = BeautifulSoup(email, 'html.parser').get_text()\n",
    "    \n",
    "    # Normalize numbers\n",
    "    email = re.sub('[0-9]+','number',email)\n",
    "    \n",
    "    # Normalize URLs\n",
    "    email = re.sub('(http|https)://[^\\s]*', 'httpaddr', email)\n",
    "    \n",
    "    # Normalize emails\n",
    "    email = re.sub('[^\\s]+@[^\\s]+', 'emailaddr', email)\n",
    "    \n",
    "    # Normalize dollars\n",
    "    email = re.sub('[$]+', 'dollar', email)\n",
    "    \n",
    "    return email\n",
    "\n",
    "def tokenizeEmail(email):\n",
    "    \"\"\"\n",
    "    Convert email to token list.\n",
    "    \"\"\"\n",
    "    # Pre-processing\n",
    "    email = processEmail(email)\n",
    "    \n",
    "    # Split into tokens\n",
    "    tokens = re.split('[ \\@\\$\\/\\#\\.\\-\\:\\&\\*\\+\\=\\[\\]\\?\\!\\(\\)\\{\\}\\,\\'\\\"\\>\\_\\<\\;\\%]', email)\n",
    "    \n",
    "    # Use porter stemmer to stem individual words in the email\n",
    "    # Stemmers remove derivational afixes.\n",
    "    stemmer = nltk.stem.porter.PorterStemmer()\n",
    "    \n",
    "    for word in tokens:\n",
    "        # Remove non-alphanumeric characteers\n"
   ]
  },
  {
   "cell_type": "code",
   "execution_count": null,
   "metadata": {
    "collapsed": true
   },
   "outputs": [],
   "source": []
  }
 ],
 "metadata": {
  "kernelspec": {
   "display_name": "Python 2",
   "language": "python",
   "name": "python2"
  },
  "language_info": {
   "codemirror_mode": {
    "name": "ipython",
    "version": 2
   },
   "file_extension": ".py",
   "mimetype": "text/x-python",
   "name": "python",
   "nbconvert_exporter": "python",
   "pygments_lexer": "ipython2",
   "version": "2.7.11"
  }
 },
 "nbformat": 4,
 "nbformat_minor": 0
}
